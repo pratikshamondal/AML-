{
 "cells": [
  {
   "cell_type": "code",
   "execution_count": 1,
   "metadata": {},
   "outputs": [],
   "source": [
    "%matplotlib inline\n",
    "import matplotlib.pyplot as plt\n",
    "import csv\n",
    "from textblob import TextBlob\n",
    "import pandas as pd\n",
    "import sklearn\n",
    "\n",
    "import numpy as np\n",
    "from sklearn import feature_extraction\n",
    "from sklearn import naive_bayes , model_selection , metrics , svm\n",
    "\n",
    "from sklearn.metrics import classification_report, f1_score, accuracy_score, confusion_matrix\n",
    "from sklearn.pipeline import Pipeline\n",
    "import warnings\n",
    "warnings.filterwarnings(\"ignore\") \n",
    "\n",
    "from sklearn.linear_model import LogisticRegression\n"
   ]
  },
  {
   "cell_type": "code",
   "execution_count": 2,
   "metadata": {},
   "outputs": [
    {
     "data": {
      "text/html": [
       "<div>\n",
       "<style scoped>\n",
       "    .dataframe tbody tr th:only-of-type {\n",
       "        vertical-align: middle;\n",
       "    }\n",
       "\n",
       "    .dataframe tbody tr th {\n",
       "        vertical-align: top;\n",
       "    }\n",
       "\n",
       "    .dataframe thead th {\n",
       "        text-align: right;\n",
       "    }\n",
       "</style>\n",
       "<table border=\"1\" class=\"dataframe\">\n",
       "  <thead>\n",
       "    <tr style=\"text-align: right;\">\n",
       "      <th></th>\n",
       "      <th>names</th>\n",
       "      <th>sms</th>\n",
       "    </tr>\n",
       "  </thead>\n",
       "  <tbody>\n",
       "    <tr>\n",
       "      <th>0</th>\n",
       "      <td>ham</td>\n",
       "      <td>Go until jurong point, crazy.. Available only ...</td>\n",
       "    </tr>\n",
       "    <tr>\n",
       "      <th>1</th>\n",
       "      <td>ham</td>\n",
       "      <td>Ok lar... Joking wif u oni...</td>\n",
       "    </tr>\n",
       "    <tr>\n",
       "      <th>2</th>\n",
       "      <td>spam</td>\n",
       "      <td>Free entry in 2 a wkly comp to win FA Cup fina...</td>\n",
       "    </tr>\n",
       "    <tr>\n",
       "      <th>3</th>\n",
       "      <td>ham</td>\n",
       "      <td>U dun say so early hor... U c already then say...</td>\n",
       "    </tr>\n",
       "    <tr>\n",
       "      <th>4</th>\n",
       "      <td>ham</td>\n",
       "      <td>Nah I don't think he goes to usf, he lives aro...</td>\n",
       "    </tr>\n",
       "  </tbody>\n",
       "</table>\n",
       "</div>"
      ],
      "text/plain": [
       "  names                                                sms\n",
       "0   ham  Go until jurong point, crazy.. Available only ...\n",
       "1   ham                      Ok lar... Joking wif u oni...\n",
       "2  spam  Free entry in 2 a wkly comp to win FA Cup fina...\n",
       "3   ham  U dun say so early hor... U c already then say...\n",
       "4   ham  Nah I don't think he goes to usf, he lives aro..."
      ]
     },
     "execution_count": 2,
     "metadata": {},
     "output_type": "execute_result"
    }
   ],
   "source": [
    "data=pd.read_csv(\"/home/pratiksha/data/SMSSpamCollection\", delimiter='\\t', names=['names','sms'])\n",
    "data.head()\n",
    "#cleaning and labelling data"
   ]
  },
  {
   "cell_type": "code",
   "execution_count": 3,
   "metadata": {},
   "outputs": [
    {
     "data": {
      "text/plain": [
       "(5572, 8444)"
      ]
     },
     "execution_count": 3,
     "metadata": {},
     "output_type": "execute_result"
    }
   ],
   "source": [
    "f=feature_extraction.text.CountVectorizer(stop_words='english')  #convert to vector\n",
    "X=f.fit_transform(data['sms'])   \n",
    "np.shape(X)            #Learn the vocabulary dictionary and return size of the term-document matrix."
   ]
  },
  {
   "cell_type": "code",
   "execution_count": 4,
   "metadata": {},
   "outputs": [
    {
     "name": "stdout",
     "output_type": "stream",
     "text": [
      "[(4457, 8444), (1115, 8444)]\n"
     ]
    }
   ],
   "source": [
    "data['names']=data['names'].map({'spam':1,'ham':0})\n",
    "X_train, X_test, y_train, y_test = model_selection.train_test_split(X,data['names'],test_size=.2, random_state=42)\n",
    "print([np.shape(X_train), np.shape(X_test)])\n",
    "\n",
    "# splits the dataset into train and test set"
   ]
  },
  {
   "cell_type": "markdown",
   "metadata": {},
   "source": [
    "NAIVE BAYES CLASSIFIER: t is a classification technique based on Bayes’ Theorem with an assumption of independence among predictors. Here we use word frquencies to decide wether an sms is spam or ham."
   ]
  },
  {
   "cell_type": "code",
   "execution_count": 5,
   "metadata": {},
   "outputs": [],
   "source": [
    "list_alpha=np.arange(1/100000,20,0.11)\n",
    "score_train=np.zeros(len(list_alpha))\n",
    "score_test=np.zeros(len(list_alpha))\n",
    "recall_test=np.zeros(len(list_alpha))\n",
    "precision_test=np.zeros(len(list_alpha))\n",
    "count=0\n",
    "for alpha in list_alpha:\n",
    "    bayes = naive_bayes.MultinomialNB(alpha=alpha)\n",
    "    bayes.fit(X_train,y_train)\n",
    "    score_train[count]=bayes.score(X_train,y_train)\n",
    "    score_test[count]=bayes.score(X_test,y_test)\n",
    "    recall_test[count]=metrics.recall_score(y_test,bayes.predict(X_test))\n",
    "    precision_test[count]=metrics.precision_score(y_test, bayes.predict(X_test))\n",
    "    count=count+1"
   ]
  },
  {
   "cell_type": "code",
   "execution_count": 6,
   "metadata": {},
   "outputs": [
    {
     "data": {
      "text/html": [
       "<div>\n",
       "<style scoped>\n",
       "    .dataframe tbody tr th:only-of-type {\n",
       "        vertical-align: middle;\n",
       "    }\n",
       "\n",
       "    .dataframe tbody tr th {\n",
       "        vertical-align: top;\n",
       "    }\n",
       "\n",
       "    .dataframe thead th {\n",
       "        text-align: right;\n",
       "    }\n",
       "</style>\n",
       "<table border=\"1\" class=\"dataframe\">\n",
       "  <thead>\n",
       "    <tr style=\"text-align: right;\">\n",
       "      <th></th>\n",
       "      <th>alpha</th>\n",
       "      <th>Train accuracy</th>\n",
       "      <th>Test Accuracy</th>\n",
       "      <th>Test Recall</th>\n",
       "      <th>Test Precision</th>\n",
       "    </tr>\n",
       "  </thead>\n",
       "  <tbody>\n",
       "    <tr>\n",
       "      <th>0</th>\n",
       "      <td>0.00001</td>\n",
       "      <td>0.997308</td>\n",
       "      <td>0.979372</td>\n",
       "      <td>0.919463</td>\n",
       "      <td>0.925676</td>\n",
       "    </tr>\n",
       "    <tr>\n",
       "      <th>1</th>\n",
       "      <td>0.11001</td>\n",
       "      <td>0.996635</td>\n",
       "      <td>0.984753</td>\n",
       "      <td>0.966443</td>\n",
       "      <td>0.923077</td>\n",
       "    </tr>\n",
       "    <tr>\n",
       "      <th>2</th>\n",
       "      <td>0.22001</td>\n",
       "      <td>0.996410</td>\n",
       "      <td>0.981166</td>\n",
       "      <td>0.966443</td>\n",
       "      <td>0.900000</td>\n",
       "    </tr>\n",
       "    <tr>\n",
       "      <th>3</th>\n",
       "      <td>0.33001</td>\n",
       "      <td>0.995961</td>\n",
       "      <td>0.979372</td>\n",
       "      <td>0.966443</td>\n",
       "      <td>0.888889</td>\n",
       "    </tr>\n",
       "    <tr>\n",
       "      <th>4</th>\n",
       "      <td>0.44001</td>\n",
       "      <td>0.995513</td>\n",
       "      <td>0.980269</td>\n",
       "      <td>0.966443</td>\n",
       "      <td>0.894410</td>\n",
       "    </tr>\n",
       "    <tr>\n",
       "      <th>5</th>\n",
       "      <td>0.55001</td>\n",
       "      <td>0.994840</td>\n",
       "      <td>0.980269</td>\n",
       "      <td>0.959732</td>\n",
       "      <td>0.899371</td>\n",
       "    </tr>\n",
       "    <tr>\n",
       "      <th>6</th>\n",
       "      <td>0.66001</td>\n",
       "      <td>0.994840</td>\n",
       "      <td>0.981166</td>\n",
       "      <td>0.959732</td>\n",
       "      <td>0.905063</td>\n",
       "    </tr>\n",
       "    <tr>\n",
       "      <th>7</th>\n",
       "      <td>0.77001</td>\n",
       "      <td>0.994840</td>\n",
       "      <td>0.982063</td>\n",
       "      <td>0.959732</td>\n",
       "      <td>0.910828</td>\n",
       "    </tr>\n",
       "    <tr>\n",
       "      <th>8</th>\n",
       "      <td>0.88001</td>\n",
       "      <td>0.994615</td>\n",
       "      <td>0.982063</td>\n",
       "      <td>0.959732</td>\n",
       "      <td>0.910828</td>\n",
       "    </tr>\n",
       "    <tr>\n",
       "      <th>9</th>\n",
       "      <td>0.99001</td>\n",
       "      <td>0.993942</td>\n",
       "      <td>0.982960</td>\n",
       "      <td>0.959732</td>\n",
       "      <td>0.916667</td>\n",
       "    </tr>\n",
       "  </tbody>\n",
       "</table>\n",
       "</div>"
      ],
      "text/plain": [
       "     alpha  Train accuracy  Test Accuracy  Test Recall  Test Precision\n",
       "0  0.00001        0.997308       0.979372     0.919463        0.925676\n",
       "1  0.11001        0.996635       0.984753     0.966443        0.923077\n",
       "2  0.22001        0.996410       0.981166     0.966443        0.900000\n",
       "3  0.33001        0.995961       0.979372     0.966443        0.888889\n",
       "4  0.44001        0.995513       0.980269     0.966443        0.894410\n",
       "5  0.55001        0.994840       0.980269     0.959732        0.899371\n",
       "6  0.66001        0.994840       0.981166     0.959732        0.905063\n",
       "7  0.77001        0.994840       0.982063     0.959732        0.910828\n",
       "8  0.88001        0.994615       0.982063     0.959732        0.910828\n",
       "9  0.99001        0.993942       0.982960     0.959732        0.916667"
      ]
     },
     "execution_count": 6,
     "metadata": {},
     "output_type": "execute_result"
    }
   ],
   "source": [
    "matrix= np.matrix(np.c_[list_alpha, score_train, score_test, recall_test, precision_test])\n",
    "models = pd.DataFrame(data=matrix, columns=['alpha','Train accuracy','Test Accuracy', 'Test Recall', 'Test Precision'])\n",
    "models.head(10)\n",
    "\n",
    "matrix= np.matrix(np.c_[list_alpha, score_train, score_test, recall_test, precision_test])\n",
    "models = pd.DataFrame(data=matrix, columns=['alpha','Train accuracy','Test Accuracy', 'Test Recall', 'Test Precision'])\n",
    "models.head(10)\n",
    "\n"
   ]
  },
  {
   "cell_type": "code",
   "execution_count": 7,
   "metadata": {},
   "outputs": [
    {
     "data": {
      "text/plain": [
       "alpha             5.720010\n",
       "Train accuracy    0.986762\n",
       "Test Accuracy     0.990135\n",
       "Test Recall       0.926174\n",
       "Test Precision    1.000000\n",
       "Name: 52, dtype: float64"
      ]
     },
     "execution_count": 7,
     "metadata": {},
     "output_type": "execute_result"
    }
   ],
   "source": [
    "best_index=models['Test Precision'].idxmax()\n",
    "models.iloc[best_index, :]\n",
    "\n"
   ]
  },
  {
   "cell_type": "markdown",
   "metadata": {},
   "source": [
    "For alpha = 5.7720010 test precision is 1"
   ]
  },
  {
   "cell_type": "code",
   "execution_count": 8,
   "metadata": {},
   "outputs": [
    {
     "data": {
      "text/html": [
       "<div>\n",
       "<style scoped>\n",
       "    .dataframe tbody tr th:only-of-type {\n",
       "        vertical-align: middle;\n",
       "    }\n",
       "\n",
       "    .dataframe tbody tr th {\n",
       "        vertical-align: top;\n",
       "    }\n",
       "\n",
       "    .dataframe thead th {\n",
       "        text-align: right;\n",
       "    }\n",
       "</style>\n",
       "<table border=\"1\" class=\"dataframe\">\n",
       "  <thead>\n",
       "    <tr style=\"text-align: right;\">\n",
       "      <th></th>\n",
       "      <th>alpha</th>\n",
       "      <th>Train accuracy</th>\n",
       "      <th>Test Accuracy</th>\n",
       "      <th>Test Recall</th>\n",
       "      <th>Test Precision</th>\n",
       "    </tr>\n",
       "  </thead>\n",
       "  <tbody>\n",
       "    <tr>\n",
       "      <th>52</th>\n",
       "      <td>5.72001</td>\n",
       "      <td>0.986762</td>\n",
       "      <td>0.990135</td>\n",
       "      <td>0.926174</td>\n",
       "      <td>1.0</td>\n",
       "    </tr>\n",
       "    <tr>\n",
       "      <th>53</th>\n",
       "      <td>5.83001</td>\n",
       "      <td>0.985865</td>\n",
       "      <td>0.990135</td>\n",
       "      <td>0.926174</td>\n",
       "      <td>1.0</td>\n",
       "    </tr>\n",
       "    <tr>\n",
       "      <th>54</th>\n",
       "      <td>5.94001</td>\n",
       "      <td>0.985865</td>\n",
       "      <td>0.990135</td>\n",
       "      <td>0.926174</td>\n",
       "      <td>1.0</td>\n",
       "    </tr>\n",
       "    <tr>\n",
       "      <th>55</th>\n",
       "      <td>6.05001</td>\n",
       "      <td>0.985865</td>\n",
       "      <td>0.990135</td>\n",
       "      <td>0.926174</td>\n",
       "      <td>1.0</td>\n",
       "    </tr>\n",
       "    <tr>\n",
       "      <th>56</th>\n",
       "      <td>6.16001</td>\n",
       "      <td>0.985641</td>\n",
       "      <td>0.990135</td>\n",
       "      <td>0.926174</td>\n",
       "      <td>1.0</td>\n",
       "    </tr>\n",
       "  </tbody>\n",
       "</table>\n",
       "</div>"
      ],
      "text/plain": [
       "      alpha  Train accuracy  Test Accuracy  Test Recall  Test Precision\n",
       "52  5.72001        0.986762       0.990135     0.926174             1.0\n",
       "53  5.83001        0.985865       0.990135     0.926174             1.0\n",
       "54  5.94001        0.985865       0.990135     0.926174             1.0\n",
       "55  6.05001        0.985865       0.990135     0.926174             1.0\n",
       "56  6.16001        0.985641       0.990135     0.926174             1.0"
      ]
     },
     "execution_count": 8,
     "metadata": {},
     "output_type": "execute_result"
    }
   ],
   "source": [
    "models[models['Test Precision']==1].head(5)"
   ]
  },
  {
   "cell_type": "code",
   "execution_count": 9,
   "metadata": {},
   "outputs": [
    {
     "data": {
      "text/plain": [
       "alpha             5.720010\n",
       "Train accuracy    0.986762\n",
       "Test Accuracy     0.990135\n",
       "Test Recall       0.926174\n",
       "Test Precision    1.000000\n",
       "Name: 52, dtype: float64"
      ]
     },
     "execution_count": 9,
     "metadata": {},
     "output_type": "execute_result"
    }
   ],
   "source": [
    "best_index=models[models['Test Precision']==1]['Test Accuracy'].idxmax()\n",
    "bayes= naive_bayes.MultinomialNB(alpha=list_alpha[best_index])\n",
    "bayes.fit(X_train,y_train)\n",
    "models.iloc[best_index,:]\n",
    "\n"
   ]
  },
  {
   "cell_type": "code",
   "execution_count": 10,
   "metadata": {},
   "outputs": [
    {
     "data": {
      "text/html": [
       "<div>\n",
       "<style scoped>\n",
       "    .dataframe tbody tr th:only-of-type {\n",
       "        vertical-align: middle;\n",
       "    }\n",
       "\n",
       "    .dataframe tbody tr th {\n",
       "        vertical-align: top;\n",
       "    }\n",
       "\n",
       "    .dataframe thead th {\n",
       "        text-align: right;\n",
       "    }\n",
       "</style>\n",
       "<table border=\"1\" class=\"dataframe\">\n",
       "  <thead>\n",
       "    <tr style=\"text-align: right;\">\n",
       "      <th></th>\n",
       "      <th>Predicted ham</th>\n",
       "      <th>Predicted spam</th>\n",
       "    </tr>\n",
       "  </thead>\n",
       "  <tbody>\n",
       "    <tr>\n",
       "      <th>Actual ham</th>\n",
       "      <td>966</td>\n",
       "      <td>0</td>\n",
       "    </tr>\n",
       "    <tr>\n",
       "      <th>Actual spam</th>\n",
       "      <td>11</td>\n",
       "      <td>138</td>\n",
       "    </tr>\n",
       "  </tbody>\n",
       "</table>\n",
       "</div>"
      ],
      "text/plain": [
       "             Predicted ham  Predicted spam\n",
       "Actual ham             966               0\n",
       "Actual spam             11             138"
      ]
     },
     "execution_count": 10,
     "metadata": {},
     "output_type": "execute_result"
    }
   ],
   "source": [
    "m_confusion_test=metrics.confusion_matrix(y_test,bayes.predict(X_test))\n",
    "pd.DataFrame(data=m_confusion_test, columns=['Predicted ham', 'Predicted spam'],index=['Actual ham', 'Actual spam'])\n",
    "\n"
   ]
  },
  {
   "cell_type": "markdown",
   "metadata": {},
   "source": [
    "SUPPORT VECTOR CLASSIFIER: Each sms of is treated as a support vector and the correct hyperplane separating the support vectors into ham and spam is found with different values of the penalty parameter c of the error term out of which one is chosen for which the test precision is 1."
   ]
  },
  {
   "cell_type": "code",
   "execution_count": 11,
   "metadata": {},
   "outputs": [],
   "source": [
    "list_C=np.arange(500,2000,100)\n",
    "score_train=np.zeros(len(list_C))\n",
    "score_test=np.zeros(len(list_C))\n",
    "recall_test=np.zeros(len(list_C))\n",
    "precision_test=np.zeros(len(list_C))\n",
    "count=0\n",
    "for C in list_C:\n",
    "    svc=svm.SVC(C=C)\n",
    "    svc.fit(X_train,y_train)\n",
    "    score_train[count]=svc.score(X_train,y_train)\n",
    "    score_test[count]=svc.score(X_test,y_test)\n",
    "    recall_test[count]=metrics.recall_score(y_test,svc.predict(X_test))\n",
    "    precision_test[count]=metrics.precision_score(y_test, svc.predict(X_test))\n",
    "    count=count+1\n",
    "\n"
   ]
  },
  {
   "cell_type": "code",
   "execution_count": 12,
   "metadata": {},
   "outputs": [
    {
     "data": {
      "text/html": [
       "<div>\n",
       "<style scoped>\n",
       "    .dataframe tbody tr th:only-of-type {\n",
       "        vertical-align: middle;\n",
       "    }\n",
       "\n",
       "    .dataframe tbody tr th {\n",
       "        vertical-align: top;\n",
       "    }\n",
       "\n",
       "    .dataframe thead th {\n",
       "        text-align: right;\n",
       "    }\n",
       "</style>\n",
       "<table border=\"1\" class=\"dataframe\">\n",
       "  <thead>\n",
       "    <tr style=\"text-align: right;\">\n",
       "      <th></th>\n",
       "      <th>alpha</th>\n",
       "      <th>Train accuracy</th>\n",
       "      <th>Test Accuracy</th>\n",
       "      <th>Test Recall</th>\n",
       "      <th>Test Precision</th>\n",
       "    </tr>\n",
       "  </thead>\n",
       "  <tbody>\n",
       "    <tr>\n",
       "      <th>0</th>\n",
       "      <td>500.0</td>\n",
       "      <td>0.994391</td>\n",
       "      <td>0.986547</td>\n",
       "      <td>0.899329</td>\n",
       "      <td>1.0</td>\n",
       "    </tr>\n",
       "    <tr>\n",
       "      <th>1</th>\n",
       "      <td>600.0</td>\n",
       "      <td>0.994840</td>\n",
       "      <td>0.987444</td>\n",
       "      <td>0.906040</td>\n",
       "      <td>1.0</td>\n",
       "    </tr>\n",
       "    <tr>\n",
       "      <th>2</th>\n",
       "      <td>700.0</td>\n",
       "      <td>0.996410</td>\n",
       "      <td>0.987444</td>\n",
       "      <td>0.906040</td>\n",
       "      <td>1.0</td>\n",
       "    </tr>\n",
       "    <tr>\n",
       "      <th>3</th>\n",
       "      <td>800.0</td>\n",
       "      <td>0.997532</td>\n",
       "      <td>0.987444</td>\n",
       "      <td>0.906040</td>\n",
       "      <td>1.0</td>\n",
       "    </tr>\n",
       "    <tr>\n",
       "      <th>4</th>\n",
       "      <td>900.0</td>\n",
       "      <td>0.997756</td>\n",
       "      <td>0.987444</td>\n",
       "      <td>0.906040</td>\n",
       "      <td>1.0</td>\n",
       "    </tr>\n",
       "    <tr>\n",
       "      <th>5</th>\n",
       "      <td>1000.0</td>\n",
       "      <td>0.998429</td>\n",
       "      <td>0.987444</td>\n",
       "      <td>0.906040</td>\n",
       "      <td>1.0</td>\n",
       "    </tr>\n",
       "    <tr>\n",
       "      <th>6</th>\n",
       "      <td>1100.0</td>\n",
       "      <td>0.998654</td>\n",
       "      <td>0.987444</td>\n",
       "      <td>0.906040</td>\n",
       "      <td>1.0</td>\n",
       "    </tr>\n",
       "    <tr>\n",
       "      <th>7</th>\n",
       "      <td>1200.0</td>\n",
       "      <td>0.998654</td>\n",
       "      <td>0.986547</td>\n",
       "      <td>0.899329</td>\n",
       "      <td>1.0</td>\n",
       "    </tr>\n",
       "    <tr>\n",
       "      <th>8</th>\n",
       "      <td>1300.0</td>\n",
       "      <td>0.998878</td>\n",
       "      <td>0.986547</td>\n",
       "      <td>0.899329</td>\n",
       "      <td>1.0</td>\n",
       "    </tr>\n",
       "    <tr>\n",
       "      <th>9</th>\n",
       "      <td>1400.0</td>\n",
       "      <td>0.999551</td>\n",
       "      <td>0.986547</td>\n",
       "      <td>0.899329</td>\n",
       "      <td>1.0</td>\n",
       "    </tr>\n",
       "  </tbody>\n",
       "</table>\n",
       "</div>"
      ],
      "text/plain": [
       "    alpha  Train accuracy  Test Accuracy  Test Recall  Test Precision\n",
       "0   500.0        0.994391       0.986547     0.899329             1.0\n",
       "1   600.0        0.994840       0.987444     0.906040             1.0\n",
       "2   700.0        0.996410       0.987444     0.906040             1.0\n",
       "3   800.0        0.997532       0.987444     0.906040             1.0\n",
       "4   900.0        0.997756       0.987444     0.906040             1.0\n",
       "5  1000.0        0.998429       0.987444     0.906040             1.0\n",
       "6  1100.0        0.998654       0.987444     0.906040             1.0\n",
       "7  1200.0        0.998654       0.986547     0.899329             1.0\n",
       "8  1300.0        0.998878       0.986547     0.899329             1.0\n",
       "9  1400.0        0.999551       0.986547     0.899329             1.0"
      ]
     },
     "execution_count": 12,
     "metadata": {},
     "output_type": "execute_result"
    }
   ],
   "source": [
    "matrix= np.matrix(np.c_[list_C, score_train, score_test, recall_test, precision_test])\n",
    "models = pd.DataFrame(data=matrix, columns=['alpha','Train accuracy','Test Accuracy', 'Test Recall', 'Test Precision'])\n",
    "models.head(10)\n",
    "\n"
   ]
  },
  {
   "cell_type": "code",
   "execution_count": 13,
   "metadata": {},
   "outputs": [
    {
     "data": {
      "text/plain": [
       "alpha             500.000000\n",
       "Train accuracy      0.994391\n",
       "Test Accuracy       0.986547\n",
       "Test Recall         0.899329\n",
       "Test Precision      1.000000\n",
       "Name: 0, dtype: float64"
      ]
     },
     "execution_count": 13,
     "metadata": {},
     "output_type": "execute_result"
    }
   ],
   "source": [
    "best_index=models['Test Precision'].idxmax()\n",
    "models.iloc[best_index, :]"
   ]
  },
  {
   "cell_type": "code",
   "execution_count": 14,
   "metadata": {},
   "outputs": [
    {
     "data": {
      "text/html": [
       "<div>\n",
       "<style scoped>\n",
       "    .dataframe tbody tr th:only-of-type {\n",
       "        vertical-align: middle;\n",
       "    }\n",
       "\n",
       "    .dataframe tbody tr th {\n",
       "        vertical-align: top;\n",
       "    }\n",
       "\n",
       "    .dataframe thead th {\n",
       "        text-align: right;\n",
       "    }\n",
       "</style>\n",
       "<table border=\"1\" class=\"dataframe\">\n",
       "  <thead>\n",
       "    <tr style=\"text-align: right;\">\n",
       "      <th></th>\n",
       "      <th>alpha</th>\n",
       "      <th>Train accuracy</th>\n",
       "      <th>Test Accuracy</th>\n",
       "      <th>Test Recall</th>\n",
       "      <th>Test Precision</th>\n",
       "    </tr>\n",
       "  </thead>\n",
       "  <tbody>\n",
       "    <tr>\n",
       "      <th>0</th>\n",
       "      <td>500.0</td>\n",
       "      <td>0.994391</td>\n",
       "      <td>0.986547</td>\n",
       "      <td>0.899329</td>\n",
       "      <td>1.0</td>\n",
       "    </tr>\n",
       "    <tr>\n",
       "      <th>1</th>\n",
       "      <td>600.0</td>\n",
       "      <td>0.994840</td>\n",
       "      <td>0.987444</td>\n",
       "      <td>0.906040</td>\n",
       "      <td>1.0</td>\n",
       "    </tr>\n",
       "    <tr>\n",
       "      <th>2</th>\n",
       "      <td>700.0</td>\n",
       "      <td>0.996410</td>\n",
       "      <td>0.987444</td>\n",
       "      <td>0.906040</td>\n",
       "      <td>1.0</td>\n",
       "    </tr>\n",
       "    <tr>\n",
       "      <th>3</th>\n",
       "      <td>800.0</td>\n",
       "      <td>0.997532</td>\n",
       "      <td>0.987444</td>\n",
       "      <td>0.906040</td>\n",
       "      <td>1.0</td>\n",
       "    </tr>\n",
       "    <tr>\n",
       "      <th>4</th>\n",
       "      <td>900.0</td>\n",
       "      <td>0.997756</td>\n",
       "      <td>0.987444</td>\n",
       "      <td>0.906040</td>\n",
       "      <td>1.0</td>\n",
       "    </tr>\n",
       "  </tbody>\n",
       "</table>\n",
       "</div>"
      ],
      "text/plain": [
       "   alpha  Train accuracy  Test Accuracy  Test Recall  Test Precision\n",
       "0  500.0        0.994391       0.986547     0.899329             1.0\n",
       "1  600.0        0.994840       0.987444     0.906040             1.0\n",
       "2  700.0        0.996410       0.987444     0.906040             1.0\n",
       "3  800.0        0.997532       0.987444     0.906040             1.0\n",
       "4  900.0        0.997756       0.987444     0.906040             1.0"
      ]
     },
     "execution_count": 14,
     "metadata": {},
     "output_type": "execute_result"
    }
   ],
   "source": [
    "models[models['Test Precision']==1].head(5)\n",
    "\n"
   ]
  },
  {
   "cell_type": "code",
   "execution_count": 15,
   "metadata": {},
   "outputs": [
    {
     "data": {
      "text/plain": [
       "alpha             600.000000\n",
       "Train accuracy      0.994840\n",
       "Test Accuracy       0.987444\n",
       "Test Recall         0.906040\n",
       "Test Precision      1.000000\n",
       "Name: 1, dtype: float64"
      ]
     },
     "execution_count": 15,
     "metadata": {},
     "output_type": "execute_result"
    }
   ],
   "source": [
    "best_index=models[models['Test Precision']==1]['Test Accuracy'].idxmax()\n",
    "svc= svm.SVC(C=list_C[best_index])\n",
    "svc.fit(X_train,y_train)\n",
    "models.iloc[best_index,:]\n",
    "\n"
   ]
  },
  {
   "cell_type": "code",
   "execution_count": 16,
   "metadata": {},
   "outputs": [
    {
     "data": {
      "text/html": [
       "<div>\n",
       "<style scoped>\n",
       "    .dataframe tbody tr th:only-of-type {\n",
       "        vertical-align: middle;\n",
       "    }\n",
       "\n",
       "    .dataframe tbody tr th {\n",
       "        vertical-align: top;\n",
       "    }\n",
       "\n",
       "    .dataframe thead th {\n",
       "        text-align: right;\n",
       "    }\n",
       "</style>\n",
       "<table border=\"1\" class=\"dataframe\">\n",
       "  <thead>\n",
       "    <tr style=\"text-align: right;\">\n",
       "      <th></th>\n",
       "      <th>Predicted ham</th>\n",
       "      <th>Predicted spam</th>\n",
       "    </tr>\n",
       "  </thead>\n",
       "  <tbody>\n",
       "    <tr>\n",
       "      <th>Actual ham</th>\n",
       "      <td>966</td>\n",
       "      <td>0</td>\n",
       "    </tr>\n",
       "    <tr>\n",
       "      <th>Actual spam</th>\n",
       "      <td>14</td>\n",
       "      <td>135</td>\n",
       "    </tr>\n",
       "  </tbody>\n",
       "</table>\n",
       "</div>"
      ],
      "text/plain": [
       "             Predicted ham  Predicted spam\n",
       "Actual ham             966               0\n",
       "Actual spam             14             135"
      ]
     },
     "execution_count": 16,
     "metadata": {},
     "output_type": "execute_result"
    }
   ],
   "source": [
    "m_confusion_test=metrics.confusion_matrix(y_test,svc.predict(X_test))\n",
    "pd.DataFrame(data=m_confusion_test, columns=['Predicted ham', 'Predicted spam'],index=['Actual ham', 'Actual spam'])\n"
   ]
  },
  {
   "cell_type": "markdown",
   "metadata": {},
   "source": [
    "LOGISTIC REGRESSION: It measures the relationship between variales by estimating proailities using logistic function. The probabilities are transformed into binary values to make a prediction and the logistic function used in this case is the sigmoid fuction."
   ]
  },
  {
   "cell_type": "code",
   "execution_count": 18,
   "metadata": {},
   "outputs": [
    {
     "data": {
      "text/html": [
       "<div>\n",
       "<style scoped>\n",
       "    .dataframe tbody tr th:only-of-type {\n",
       "        vertical-align: middle;\n",
       "    }\n",
       "\n",
       "    .dataframe tbody tr th {\n",
       "        vertical-align: top;\n",
       "    }\n",
       "\n",
       "    .dataframe thead th {\n",
       "        text-align: right;\n",
       "    }\n",
       "</style>\n",
       "<table border=\"1\" class=\"dataframe\">\n",
       "  <thead>\n",
       "    <tr style=\"text-align: right;\">\n",
       "      <th></th>\n",
       "      <th>train accuracy</th>\n",
       "      <th>test accuracy</th>\n",
       "      <th>test recall</th>\n",
       "      <th>test precision</th>\n",
       "    </tr>\n",
       "  </thead>\n",
       "  <tbody>\n",
       "    <tr>\n",
       "      <th>0</th>\n",
       "      <td>0.990128</td>\n",
       "      <td>0.984753</td>\n",
       "      <td>0.892617</td>\n",
       "      <td>0.992537</td>\n",
       "    </tr>\n",
       "  </tbody>\n",
       "</table>\n",
       "</div>"
      ],
      "text/plain": [
       "   train accuracy  test accuracy  test recall  test precision\n",
       "0        0.990128       0.984753     0.892617        0.992537"
      ]
     },
     "execution_count": 18,
     "metadata": {},
     "output_type": "execute_result"
    }
   ],
   "source": [
    "Spam_model = LogisticRegression(solver='liblinear',penalty='l1')\n",
    "Spam_model.fit(X_train,y_train)\n",
    "score_train = Spam_model.score(X_train,y_train)\n",
    "score_test = Spam_model.score(X_test,y_test)\n",
    "recall_test = metrics.recall_score(y_test,Spam_model.predict(X_test))\n",
    "precision_test = metrics.precision_score(y_test, Spam_model.predict(X_test))\n",
    "matrix = np.matrix(np.c_[score_train, score_test ,recall_test , precision_test])\n",
    "models = pd.DataFrame(data=matrix, columns=['train accuracy', 'test accuracy', 'test recall', 'test precision'])\n",
    "models.head()"
   ]
  },
  {
   "cell_type": "code",
   "execution_count": null,
   "metadata": {},
   "outputs": [],
   "source": []
  }
 ],
 "metadata": {
  "kernelspec": {
   "display_name": "Python 3",
   "language": "python",
   "name": "python3"
  },
  "language_info": {
   "codemirror_mode": {
    "name": "ipython",
    "version": 3
   },
   "file_extension": ".py",
   "mimetype": "text/x-python",
   "name": "python",
   "nbconvert_exporter": "python",
   "pygments_lexer": "ipython3",
   "version": "3.7.1"
  }
 },
 "nbformat": 4,
 "nbformat_minor": 2
}
